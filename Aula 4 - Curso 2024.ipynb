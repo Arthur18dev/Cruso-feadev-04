{
 "cells": [
  {
   "cell_type": "code",
   "execution_count": 2,
   "metadata": {},
   "outputs": [],
   "source": [
    "# Criação de funções - com print\n",
    "\n",
    "def minha_primeira_funcao():\n",
    "    print(\"Olá, mundo!\")    "
   ]
  },
  {
   "cell_type": "code",
   "execution_count": 3,
   "metadata": {},
   "outputs": [
    {
     "name": "stdout",
     "output_type": "stream",
     "text": [
      "Olá, mundo!\n"
     ]
    }
   ],
   "source": [
    "minha_primeira_funcao()"
   ]
  },
  {
   "cell_type": "code",
   "execution_count": 4,
   "metadata": {},
   "outputs": [],
   "source": [
    "def minha_primeira_soma():\n",
    "    print(2 + 2)"
   ]
  },
  {
   "cell_type": "code",
   "execution_count": 5,
   "metadata": {},
   "outputs": [
    {
     "name": "stdout",
     "output_type": "stream",
     "text": [
      "4\n"
     ]
    }
   ],
   "source": [
    "minha_primeira_soma()"
   ]
  },
  {
   "cell_type": "code",
   "execution_count": 6,
   "metadata": {},
   "outputs": [
    {
     "name": "stdout",
     "output_type": "stream",
     "text": [
      "6\n",
      "None\n"
     ]
    }
   ],
   "source": [
    "a = print(3+3)\n",
    "\n",
    "print(a)"
   ]
  },
  {
   "cell_type": "code",
   "execution_count": 7,
   "metadata": {},
   "outputs": [
    {
     "name": "stdout",
     "output_type": "stream",
     "text": [
      "Olá, mundo! - Teste\n"
     ]
    }
   ],
   "source": [
    "# Criação de funções - com return -> return seria o \"final\" de toda função\n",
    "\n",
    "def minha_segunda_funcao():\n",
    "    return \"Olá, mundo!\"\n",
    "\n",
    "teste = minha_segunda_funcao() + \" - Teste\"\n",
    "\n",
    "print(teste)"
   ]
  },
  {
   "cell_type": "code",
   "execution_count": 8,
   "metadata": {},
   "outputs": [],
   "source": [
    "def minha_primeira_soma():\n",
    "    return(2 + 2)"
   ]
  },
  {
   "cell_type": "code",
   "execution_count": 9,
   "metadata": {},
   "outputs": [
    {
     "name": "stdout",
     "output_type": "stream",
     "text": [
      "6\n"
     ]
    }
   ],
   "source": [
    "teste = minha_primeira_soma() + 2\n",
    "\n",
    "print(teste)"
   ]
  },
  {
   "cell_type": "code",
   "execution_count": 10,
   "metadata": {},
   "outputs": [],
   "source": [
    "# Criação de funções - com vários returns diferentes -> isso é importante, pois o conjunto de um return traz várias tuplas\n",
    "\n",
    "def operacoes_basicas(num1, num2):\n",
    "    soma = num1 + num2\n",
    "    diferenca = num1 - num2\n",
    "    mult = num1 * num2\n",
    "    divisao = num1 / num2\n",
    "    return soma, diferenca, mult, divisao\n"
   ]
  },
  {
   "cell_type": "code",
   "execution_count": 11,
   "metadata": {},
   "outputs": [],
   "source": [
    "a = operacoes_basicas(3,2)"
   ]
  },
  {
   "cell_type": "code",
   "execution_count": 12,
   "metadata": {},
   "outputs": [
    {
     "name": "stdout",
     "output_type": "stream",
     "text": [
      "<class 'tuple'>\n"
     ]
    }
   ],
   "source": [
    "print(type(a))"
   ]
  },
  {
   "cell_type": "code",
   "execution_count": 13,
   "metadata": {},
   "outputs": [
    {
     "name": "stdout",
     "output_type": "stream",
     "text": [
      "(5, 1, 6, 1.5)\n"
     ]
    }
   ],
   "source": [
    "print(a)"
   ]
  },
  {
   "cell_type": "code",
   "execution_count": 14,
   "metadata": {},
   "outputs": [],
   "source": [
    "# Função com argumentos obrigatórios\n",
    "\n",
    "# É o que você coloca dentro do parênteses da função (argumento)\n",
    "\n",
    "def soma(a,b):\n",
    "    return a + b"
   ]
  },
  {
   "cell_type": "code",
   "execution_count": 15,
   "metadata": {},
   "outputs": [
    {
     "data": {
      "text/plain": [
       "5"
      ]
     },
     "execution_count": 15,
     "metadata": {},
     "output_type": "execute_result"
    }
   ],
   "source": [
    "soma(2,3)"
   ]
  },
  {
   "cell_type": "code",
   "execution_count": 16,
   "metadata": {},
   "outputs": [
    {
     "ename": "TypeError",
     "evalue": "soma() missing 1 required positional argument: 'b'",
     "output_type": "error",
     "traceback": [
      "\u001b[1;31m---------------------------------------------------------------------------\u001b[0m",
      "\u001b[1;31mTypeError\u001b[0m                                 Traceback (most recent call last)",
      "Cell \u001b[1;32mIn[16], line 1\u001b[0m\n\u001b[1;32m----> 1\u001b[0m \u001b[43msoma\u001b[49m\u001b[43m(\u001b[49m\u001b[38;5;241;43m2\u001b[39;49m\u001b[43m,\u001b[49m\u001b[43m)\u001b[49m\n",
      "\u001b[1;31mTypeError\u001b[0m: soma() missing 1 required positional argument: 'b'"
     ]
    }
   ],
   "source": [
    "soma(2,)"
   ]
  },
  {
   "cell_type": "code",
   "execution_count": 17,
   "metadata": {},
   "outputs": [],
   "source": [
    "# Função com agumentos opcionais -> mostrar o exemplo da método .split sobre as strings\n",
    "\n",
    "def subtracao(a,b=5):\n",
    "    return a - b"
   ]
  },
  {
   "cell_type": "code",
   "execution_count": 18,
   "metadata": {},
   "outputs": [
    {
     "data": {
      "text/plain": [
       "-1"
      ]
     },
     "execution_count": 18,
     "metadata": {},
     "output_type": "execute_result"
    }
   ],
   "source": [
    "subtracao(2,3)"
   ]
  },
  {
   "cell_type": "code",
   "execution_count": 19,
   "metadata": {},
   "outputs": [
    {
     "data": {
      "text/plain": [
       "15"
      ]
     },
     "execution_count": 19,
     "metadata": {},
     "output_type": "execute_result"
    }
   ],
   "source": [
    "subtracao(20,)"
   ]
  },
  {
   "cell_type": "code",
   "execution_count": 20,
   "metadata": {},
   "outputs": [
    {
     "name": "stdout",
     "output_type": "stream",
     "text": [
      "[1, 1, 3, 4, 5, 9]\n",
      "[9, 5, 4, 3, 1, 1]\n"
     ]
    }
   ],
   "source": [
    "numeros = [3, 1, 4, 1, 5, 9]\n",
    "\n",
    "numeros.sort()\n",
    "print(numeros)\n",
    "\n",
    "\n",
    "numeros.sort(reverse=True)\n",
    "print(numeros)"
   ]
  },
  {
   "cell_type": "code",
   "execution_count": 21,
   "metadata": {},
   "outputs": [],
   "source": [
    "def subtracao_v2(b=5):\n",
    "    return 50 -b"
   ]
  },
  {
   "cell_type": "code",
   "execution_count": 22,
   "metadata": {},
   "outputs": [
    {
     "data": {
      "text/plain": [
       "45"
      ]
     },
     "execution_count": 22,
     "metadata": {},
     "output_type": "execute_result"
    }
   ],
   "source": [
    "subtracao_v2()"
   ]
  },
  {
   "cell_type": "code",
   "execution_count": 23,
   "metadata": {},
   "outputs": [
    {
     "name": "stdout",
     "output_type": "stream",
     "text": [
      "['teste', 'teste', 'teste']\n"
     ]
    }
   ],
   "source": [
    "palavra1 = \"teste\"\n",
    "palavra2 = \"teste\"\n",
    "palavra3 = \"teste\"\n",
    "\n",
    "lista = list([palavra1, palavra2, palavra3])\n",
    "\n",
    "print(lista)"
   ]
  },
  {
   "cell_type": "code",
   "execution_count": 24,
   "metadata": {},
   "outputs": [],
   "source": [
    "# Função com args -> funções com um número indefinido de argumentos\n",
    "\n",
    "def gerar_lista(*args):\n",
    "    return list(args)"
   ]
  },
  {
   "cell_type": "code",
   "execution_count": 25,
   "metadata": {},
   "outputs": [
    {
     "data": {
      "text/plain": [
       "['fea', 'dev', 'teste']"
      ]
     },
     "execution_count": 25,
     "metadata": {},
     "output_type": "execute_result"
    }
   ],
   "source": [
    "gerar_lista(\"fea\",\"dev\",\"teste\")"
   ]
  },
  {
   "cell_type": "code",
   "execution_count": 26,
   "metadata": {},
   "outputs": [
    {
     "data": {
      "text/plain": [
       "['Ana', 'Bruno', 'Carlos', 'Daniela', 'Eduardo']"
      ]
     },
     "execution_count": 26,
     "metadata": {},
     "output_type": "execute_result"
    }
   ],
   "source": [
    "gerar_lista(\"Ana\", \"Bruno\", \"Carlos\", \"Daniela\", \"Eduardo\")"
   ]
  },
  {
   "cell_type": "code",
   "execution_count": 27,
   "metadata": {},
   "outputs": [
    {
     "data": {
      "text/plain": [
       "['João', 'Fulano']"
      ]
     },
     "execution_count": 27,
     "metadata": {},
     "output_type": "execute_result"
    }
   ],
   "source": [
    "gerar_lista(\"João\",\"Fulano\")"
   ]
  },
  {
   "cell_type": "code",
   "execution_count": 28,
   "metadata": {},
   "outputs": [],
   "source": [
    "dicionario = {\"lucas\":25}"
   ]
  },
  {
   "cell_type": "code",
   "execution_count": null,
   "metadata": {},
   "outputs": [],
   "source": []
  },
  {
   "cell_type": "code",
   "execution_count": 29,
   "metadata": {},
   "outputs": [],
   "source": [
    "# Função com kwargs -> funções em que você pode colocar um ou vários argumentos nomeados (chave e valor)\n",
    "\n",
    "def preco_final(preco,**outros):\n",
    "    print(outros)\n",
    "    if 'imposto' in outros:\n",
    "        preco = preco * (1+ outros['imposto'])\n",
    "    if 'desconto' in outros:\n",
    "        preco = preco * (1 - outros['desconto'])\n",
    "    if 'vista' in outros:\n",
    "        preco = preco - 30\n",
    "    if 'parcelado' in outros:\n",
    "        preco = preco + 30\n",
    "    return preco"
   ]
  },
  {
   "cell_type": "code",
   "execution_count": 30,
   "metadata": {},
   "outputs": [
    {
     "name": "stdout",
     "output_type": "stream",
     "text": [
      "{'imposto': 0.15, 'desconto': 0.1, 'parcelado': True}\n"
     ]
    },
    {
     "data": {
      "text/plain": [
       "133.5"
      ]
     },
     "execution_count": 30,
     "metadata": {},
     "output_type": "execute_result"
    }
   ],
   "source": [
    "preco_final(100, imposto=0.15, desconto=0.1, parcelado=True)"
   ]
  },
  {
   "cell_type": "code",
   "execution_count": 31,
   "metadata": {},
   "outputs": [
    {
     "name": "stdout",
     "output_type": "stream",
     "text": [
      "{'imposto': 0.2, 'parcelado': True}\n"
     ]
    },
    {
     "data": {
      "text/plain": [
       "150.0"
      ]
     },
     "execution_count": 31,
     "metadata": {},
     "output_type": "execute_result"
    }
   ],
   "source": [
    "preco_final(100, imposto=0.2, parcelado=True)"
   ]
  },
  {
   "cell_type": "code",
   "execution_count": 32,
   "metadata": {},
   "outputs": [],
   "source": [
    "# Docstrings\n",
    "\n",
    "def elevar_quadrado(numero):\n",
    "    '''Função para elevar um número ao quadrado\n",
    "\n",
    "    Parameters:\n",
    "    numero (int ou float): Número que será elevado ao quadrado\n",
    "\n",
    "    Returns:\n",
    "    int ou float: Número elevado ao quadrado\n",
    "    '''\n",
    "    \n",
    "    return numero ** 2"
   ]
  },
  {
   "cell_type": "code",
   "execution_count": 33,
   "metadata": {},
   "outputs": [
    {
     "ename": "TypeError",
     "evalue": "elevar_quadrado() missing 1 required positional argument: 'numero'",
     "output_type": "error",
     "traceback": [
      "\u001b[1;31m---------------------------------------------------------------------------\u001b[0m",
      "\u001b[1;31mTypeError\u001b[0m                                 Traceback (most recent call last)",
      "Cell \u001b[1;32mIn[33], line 1\u001b[0m\n\u001b[1;32m----> 1\u001b[0m \u001b[43melevar_quadrado\u001b[49m\u001b[43m(\u001b[49m\u001b[43m)\u001b[49m\n",
      "\u001b[1;31mTypeError\u001b[0m: elevar_quadrado() missing 1 required positional argument: 'numero'"
     ]
    }
   ],
   "source": [
    "elevar_quadrado()"
   ]
  },
  {
   "cell_type": "code",
   "execution_count": 34,
   "metadata": {},
   "outputs": [
    {
     "name": "stdout",
     "output_type": "stream",
     "text": [
      "Função para elevar um número ao quadrado\n",
      "\n",
      "    Parameters:\n",
      "    numero (int ou float): Número que será elevado ao quadrado\n",
      "\n",
      "    Returns:\n",
      "    int ou float: Número elevado ao quadrado\n",
      "    \n"
     ]
    }
   ],
   "source": [
    "print(elevar_quadrado.__doc__)"
   ]
  },
  {
   "cell_type": "code",
   "execution_count": 35,
   "metadata": {},
   "outputs": [],
   "source": [
    "# Annotations -> é o output sobre o tipo de dados que a função retorna\n",
    "\n",
    "def raiz_quadrada(numero: int) -> float:\n",
    "    return numero ** 0.5"
   ]
  },
  {
   "cell_type": "code",
   "execution_count": 36,
   "metadata": {},
   "outputs": [
    {
     "data": {
      "text/plain": [
       "4"
      ]
     },
     "execution_count": 36,
     "metadata": {},
     "output_type": "execute_result"
    }
   ],
   "source": [
    "# Lambda -> função anônima\n",
    "\n",
    "quadrado = lambda x: x ** 2\n",
    "\n",
    "quadrado(2)"
   ]
  },
  {
   "cell_type": "code",
   "execution_count": 37,
   "metadata": {},
   "outputs": [
    {
     "name": "stdout",
     "output_type": "stream",
     "text": [
      "<map object at 0x00000224F834E0B0>\n",
      "[1, 4, 9, 16, 25]\n"
     ]
    }
   ],
   "source": [
    "# Map -> Aplicar uma função para cada item de um iterável\n",
    "\n",
    "def quadrado(numero):\n",
    "    return numero ** 2\n",
    "\n",
    "numeros = [1, 2, 3, 4, 5]\n",
    "\n",
    "quadrados = map(quadrado, numeros)\n",
    "\n",
    "print(quadrados)\n",
    "\n",
    "print(list(quadrados))"
   ]
  },
  {
   "cell_type": "code",
   "execution_count": null,
   "metadata": {},
   "outputs": [],
   "source": [
    "\n"
   ]
  },
  {
   "cell_type": "code",
   "execution_count": 38,
   "metadata": {},
   "outputs": [
    {
     "name": "stdout",
     "output_type": "stream",
     "text": [
      "[1, 4, 9, 16, 25]\n"
     ]
    }
   ],
   "source": [
    "# Map e Lambda \n",
    "\n",
    "numeros = [1, 2, 3, 4, 5]\n",
    "\n",
    "quadrados = map(lambda x: x ** 2, numeros)\n",
    "\n",
    "print(list(quadrados))"
   ]
  }
 ],
 "metadata": {
  "kernelspec": {
   "display_name": "Python 3",
   "language": "python",
   "name": "python3"
  },
  "language_info": {
   "codemirror_mode": {
    "name": "ipython",
    "version": 3
   },
   "file_extension": ".py",
   "mimetype": "text/x-python",
   "name": "python",
   "nbconvert_exporter": "python",
   "pygments_lexer": "ipython3",
   "version": "3.11.9"
  }
 },
 "nbformat": 4,
 "nbformat_minor": 2
}
